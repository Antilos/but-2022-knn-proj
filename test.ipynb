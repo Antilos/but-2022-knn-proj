{
 "cells": [
  {
   "cell_type": "code",
   "execution_count": 1,
   "metadata": {},
   "outputs": [
    {
     "name": "stderr",
     "output_type": "stream",
     "text": [
      "c:\\Users\\jakko\\Anaconda3\\envs\\knn\\lib\\site-packages\\tqdm\\auto.py:22: TqdmWarning: IProgress not found. Please update jupyter and ipywidgets. See https://ipywidgets.readthedocs.io/en/stable/user_install.html\n",
      "  from .autonotebook import tqdm as notebook_tqdm\n"
     ]
    }
   ],
   "source": [
    "import numpy as np\n",
    "import torch"
   ]
  },
  {
   "cell_type": "code",
   "execution_count": 95,
   "metadata": {},
   "outputs": [
    {
     "name": "stdout",
     "output_type": "stream",
     "text": [
      "tensor([[[ 1,  0,  0,  0,  1],\n",
      "         [ 2,  0,  0,  0,  0]],\n",
      "\n",
      "        [[ 2,  1,  0,  0, -1],\n",
      "         [ 2,  2,  0,  0,  0]]])\n",
      "tensor([[[[ 0,  1,  2],\n",
      "          [ 3,  4,  5],\n",
      "          [ 6,  7,  8]]],\n",
      "\n",
      "\n",
      "        [[[ 9, 10, 11],\n",
      "          [12, 13, 14],\n",
      "          [15, 16, 17]]]])\n"
     ]
    }
   ],
   "source": [
    "a = torch.zeros(20, dtype=int).reshape(2,2,5)\n",
    "a[0,0,0] = 1\n",
    "a[0,1,0] = 2\n",
    "a[1,0,0] = 2\n",
    "a[1,1,0] = 2\n",
    "a[1,0,1] = 1\n",
    "a[1,1,1] = 2\n",
    "a[0,0,4] = 1\n",
    "a[1,0,4] = -1\n",
    "b = torch.arange(0, 18).reshape(2,1,3,3)\n",
    "print(a)\n",
    "print(b)"
   ]
  },
  {
   "cell_type": "code",
   "execution_count": 85,
   "metadata": {},
   "outputs": [
    {
     "data": {
      "text/plain": [
       "tensor([[[1, 0, 0, 0, 0],\n",
       "         [2, 0, 0, 0, 0]],\n",
       "\n",
       "        [[2, 1, 0, 0, 0],\n",
       "         [2, 2, 0, 0, 0]]])"
      ]
     },
     "execution_count": 85,
     "metadata": {},
     "output_type": "execute_result"
    }
   ],
   "source": [
    "a"
   ]
  },
  {
   "cell_type": "code",
   "execution_count": 91,
   "metadata": {},
   "outputs": [
    {
     "name": "stdout",
     "output_type": "stream",
     "text": [
      "tensor([[1, 2],\n",
      "        [2, 2]])\n",
      "tensor([[0, 0],\n",
      "        [1, 2]])\n",
      "tensor([[0, 0],\n",
      "        [0, 0]])\n",
      "tensor([[0, 0],\n",
      "        [0, 0]])\n"
     ]
    }
   ],
   "source": [
    "print(a[:,:,:4][:,:,0])\n",
    "print(a[:,:,:4][:,:,1])\n",
    "print(a[:,:,:4][:,:,2])\n",
    "print(a[:,:,:4][:,:,3])"
   ]
  },
  {
   "cell_type": "code",
   "execution_count": 122,
   "metadata": {},
   "outputs": [
    {
     "name": "stdout",
     "output_type": "stream",
     "text": [
      "tensor([[[ 0,  1,  2],\n",
      "         [ 3,  4,  5],\n",
      "         [ 6,  7,  8]],\n",
      "\n",
      "        [[ 9, 10, 11],\n",
      "         [12, 13, 14],\n",
      "         [15, 16, 17]]])\n",
      "tensor([ 3, 12])\n"
     ]
    }
   ],
   "source": [
    "print(b.squeeze())\n",
    "print(b.squeeze()[:,1,0])"
   ]
  },
  {
   "cell_type": "code",
   "execution_count": 125,
   "metadata": {},
   "outputs": [
    {
     "name": "stdout",
     "output_type": "stream",
     "text": [
      "tensor([[[ 0,  1,  2],\n",
      "         [ 3,  4,  5],\n",
      "         [ 6,  7,  8]],\n",
      "\n",
      "        [[ 9, 10, 11],\n",
      "         [12, 13, 14],\n",
      "         [15, 16, 17]]])\n",
      "tensor([[[ 1,  0,  0,  0,  1],\n",
      "         [ 2,  0,  0,  0,  0]],\n",
      "\n",
      "        [[ 2,  1,  0,  0, -1],\n",
      "         [ 2,  2,  0,  0,  0]]])\n",
      "tensor([[ 3,  6],\n",
      "        [12, 15]])\n",
      "tensor([[0, 0],\n",
      "        [9, 9]])\n"
     ]
    }
   ],
   "source": [
    "# torch.take_along_dim(b.squeeze(), torch.tensor([[0],[1]]), dim=0)\n",
    "# row = torch.tensor([0,1])\n",
    "# col = torch.tensor([0,1])\n",
    "print(b.squeeze())\n",
    "print(a)\n",
    "row1 = a[:,:,:4][:,:,0]\n",
    "col1 = a[:,:,:4][:,:,1]\n",
    "row2 = a[:,:,:4][:,:,2]\n",
    "col2 = a[:,:,:4][:,:,3]\n",
    "print(left := b.squeeze()[:, row1, col1][:,0])\n",
    "print(right := b.squeeze()[:, row2, col2][:,0])"
   ]
  },
  {
   "cell_type": "code",
   "execution_count": 142,
   "metadata": {},
   "outputs": [
    {
     "name": "stdout",
     "output_type": "stream",
     "text": [
      "tensor([[ 0.0486, 36.0000],\n",
      "        [ 3.0486, 36.0000]])\n"
     ]
    },
    {
     "data": {
      "text/plain": [
       "tensor([36.0486, 39.0486])"
      ]
     },
     "execution_count": 142,
     "metadata": {},
     "output_type": "execute_result"
    }
   ],
   "source": [
    "a[:,:,4]\n",
    "\n",
    "zeros = torch.zeros_like(a[:,:,4], dtype=torch.float)\n",
    "log = torch.log(1 + torch.exp(-left + right))\n",
    "\n",
    "\n",
    "val1 = torch.where(a[:,:,4] == 1 , torch.log(1 + torch.exp(-left + right)), zeros)\n",
    "val2 = torch.where(a[:,:,4] == -1 , torch.log(1 + torch.exp(left - right)), zeros)\n",
    "val3 = torch.where(a[:,:,4] == 0 , torch.square(left - right).type(torch.float), zeros)\n",
    "\n",
    "print(val1 + val2 + val3)\n",
    "torch.sum(val1 + val2 + val3, dim=1)\n"
   ]
  }
 ],
 "metadata": {
  "interpreter": {
   "hash": "9e1d79b8a046f3833bb491ec4b2d5ea8cfe2dfa85f056e92838947dcf0922fe7"
  },
  "kernelspec": {
   "display_name": "Python 3.9.12 ('knn')",
   "language": "python",
   "name": "python3"
  },
  "language_info": {
   "codemirror_mode": {
    "name": "ipython",
    "version": 3
   },
   "file_extension": ".py",
   "mimetype": "text/x-python",
   "name": "python",
   "nbconvert_exporter": "python",
   "pygments_lexer": "ipython3",
   "version": "3.9.12"
  },
  "orig_nbformat": 4
 },
 "nbformat": 4,
 "nbformat_minor": 2
}
